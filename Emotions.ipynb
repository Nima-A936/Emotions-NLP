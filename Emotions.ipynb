{
 "cells": [
  {
   "cell_type": "code",
   "execution_count": 31,
   "id": "110bb4cf-44b2-4739-897b-9a949e803fa2",
   "metadata": {},
   "outputs": [],
   "source": [
    "import numpy as np\n",
    "import pandas as pd\n",
    "import tensorflow as tf\n",
    "from tensorflow.keras.layers import Dense , LSTM , Bidirectional , Embedding , TextVectorization , Conv1D , MaxPooling1D\n",
    "from tensorflow.keras import Sequential\n",
    "import os\n",
    "from tensorflow.keras.losses import BinaryCrossentropy\n",
    "from sklearn.preprocessing import MultiLabelBinarizer\n",
    "from matplotlib import pyplot as plt\n",
    "from tensorflow.keras.layers import Dropout, GlobalAveragePooling1D\n",
    "import math as mt\n",
    "from collections import Counter\n",
    "import random\n",
    "import statistics as st\n",
    "from scipy.stats import skew , kurtosis\n",
    "import seaborn as sns\n",
    "from scipy.stats import f_oneway\n",
    "from tensorflow.keras.layers import *\n",
    "from mpl_toolkits.mplot3d import Axes3D\n",
    "import plotly.graph_objects as go\n",
    "import random\n",
    "from sklearn.model_selection import train_test_split\n",
    "from sklearn.preprocessing import StandardScaler, Normalizer, OneHotEncoder"
   ]
  },
  {
   "cell_type": "code",
   "execution_count": 32,
   "id": "7f5aa301-1351-473f-8fe0-a29f8d64986a",
   "metadata": {},
   "outputs": [],
   "source": [
    "df = pd.read_csv(\n",
    "    os.path.join(\"text.csv\")\n",
    ")"
   ]
  },
  {
   "cell_type": "code",
   "execution_count": 33,
   "id": "d34875c4-c61b-41b3-baa6-0fdedcc977f2",
   "metadata": {},
   "outputs": [
    {
     "data": {
      "text/html": [
       "<div>\n",
       "<style scoped>\n",
       "    .dataframe tbody tr th:only-of-type {\n",
       "        vertical-align: middle;\n",
       "    }\n",
       "\n",
       "    .dataframe tbody tr th {\n",
       "        vertical-align: top;\n",
       "    }\n",
       "\n",
       "    .dataframe thead th {\n",
       "        text-align: right;\n",
       "    }\n",
       "</style>\n",
       "<table border=\"1\" class=\"dataframe\">\n",
       "  <thead>\n",
       "    <tr style=\"text-align: right;\">\n",
       "      <th></th>\n",
       "      <th>Unnamed: 0</th>\n",
       "      <th>text</th>\n",
       "      <th>label</th>\n",
       "    </tr>\n",
       "  </thead>\n",
       "  <tbody>\n",
       "    <tr>\n",
       "      <th>0</th>\n",
       "      <td>0</td>\n",
       "      <td>i just feel really helpless and heavy hearted</td>\n",
       "      <td>4</td>\n",
       "    </tr>\n",
       "    <tr>\n",
       "      <th>1</th>\n",
       "      <td>1</td>\n",
       "      <td>ive enjoyed being able to slouch about relax a...</td>\n",
       "      <td>0</td>\n",
       "    </tr>\n",
       "    <tr>\n",
       "      <th>2</th>\n",
       "      <td>2</td>\n",
       "      <td>i gave up my internship with the dmrg and am f...</td>\n",
       "      <td>4</td>\n",
       "    </tr>\n",
       "    <tr>\n",
       "      <th>3</th>\n",
       "      <td>3</td>\n",
       "      <td>i dont know i feel so lost</td>\n",
       "      <td>0</td>\n",
       "    </tr>\n",
       "    <tr>\n",
       "      <th>4</th>\n",
       "      <td>4</td>\n",
       "      <td>i am a kindergarten teacher and i am thoroughl...</td>\n",
       "      <td>4</td>\n",
       "    </tr>\n",
       "    <tr>\n",
       "      <th>5</th>\n",
       "      <td>5</td>\n",
       "      <td>i was beginning to feel quite disheartened</td>\n",
       "      <td>0</td>\n",
       "    </tr>\n",
       "    <tr>\n",
       "      <th>6</th>\n",
       "      <td>6</td>\n",
       "      <td>i would think that whomever would be lucky eno...</td>\n",
       "      <td>2</td>\n",
       "    </tr>\n",
       "    <tr>\n",
       "      <th>7</th>\n",
       "      <td>7</td>\n",
       "      <td>i fear that they won t ever feel that deliciou...</td>\n",
       "      <td>1</td>\n",
       "    </tr>\n",
       "    <tr>\n",
       "      <th>8</th>\n",
       "      <td>8</td>\n",
       "      <td>im forever taking some time out to have a lie ...</td>\n",
       "      <td>5</td>\n",
       "    </tr>\n",
       "    <tr>\n",
       "      <th>9</th>\n",
       "      <td>9</td>\n",
       "      <td>i can still lose the weight without feeling de...</td>\n",
       "      <td>0</td>\n",
       "    </tr>\n",
       "  </tbody>\n",
       "</table>\n",
       "</div>"
      ],
      "text/plain": [
       "   Unnamed: 0                                               text  label\n",
       "0           0      i just feel really helpless and heavy hearted      4\n",
       "1           1  ive enjoyed being able to slouch about relax a...      0\n",
       "2           2  i gave up my internship with the dmrg and am f...      4\n",
       "3           3                         i dont know i feel so lost      0\n",
       "4           4  i am a kindergarten teacher and i am thoroughl...      4\n",
       "5           5         i was beginning to feel quite disheartened      0\n",
       "6           6  i would think that whomever would be lucky eno...      2\n",
       "7           7  i fear that they won t ever feel that deliciou...      1\n",
       "8           8  im forever taking some time out to have a lie ...      5\n",
       "9           9  i can still lose the weight without feeling de...      0"
      ]
     },
     "execution_count": 33,
     "metadata": {},
     "output_type": "execute_result"
    }
   ],
   "source": [
    "df.head(10)"
   ]
  },
  {
   "cell_type": "code",
   "execution_count": 34,
   "id": "3ed0653e-2825-4655-8c1c-dce6eaeaa9ae",
   "metadata": {},
   "outputs": [],
   "source": [
    "df.drop('Unnamed: 0' , axis=1 , inplace=True)\n",
    "apply = df['text'].apply(lambda x : len(x.replace(\" \" , \"\")))\n",
    "df['text_length'] = apply"
   ]
  },
  {
   "cell_type": "code",
   "execution_count": 35,
   "id": "a7e644c8-7088-4061-8fa0-373dd6079152",
   "metadata": {},
   "outputs": [
    {
     "data": {
      "text/html": [
       "<div>\n",
       "<style scoped>\n",
       "    .dataframe tbody tr th:only-of-type {\n",
       "        vertical-align: middle;\n",
       "    }\n",
       "\n",
       "    .dataframe tbody tr th {\n",
       "        vertical-align: top;\n",
       "    }\n",
       "\n",
       "    .dataframe thead th {\n",
       "        text-align: right;\n",
       "    }\n",
       "</style>\n",
       "<table border=\"1\" class=\"dataframe\">\n",
       "  <thead>\n",
       "    <tr style=\"text-align: right;\">\n",
       "      <th></th>\n",
       "      <th>text</th>\n",
       "      <th>label</th>\n",
       "      <th>text_length</th>\n",
       "    </tr>\n",
       "  </thead>\n",
       "  <tbody>\n",
       "    <tr>\n",
       "      <th>0</th>\n",
       "      <td>i just feel really helpless and heavy hearted</td>\n",
       "      <td>4</td>\n",
       "      <td>38</td>\n",
       "    </tr>\n",
       "    <tr>\n",
       "      <th>1</th>\n",
       "      <td>ive enjoyed being able to slouch about relax a...</td>\n",
       "      <td>0</td>\n",
       "      <td>190</td>\n",
       "    </tr>\n",
       "    <tr>\n",
       "      <th>2</th>\n",
       "      <td>i gave up my internship with the dmrg and am f...</td>\n",
       "      <td>4</td>\n",
       "      <td>52</td>\n",
       "    </tr>\n",
       "    <tr>\n",
       "      <th>3</th>\n",
       "      <td>i dont know i feel so lost</td>\n",
       "      <td>0</td>\n",
       "      <td>20</td>\n",
       "    </tr>\n",
       "    <tr>\n",
       "      <th>4</th>\n",
       "      <td>i am a kindergarten teacher and i am thoroughl...</td>\n",
       "      <td>4</td>\n",
       "      <td>181</td>\n",
       "    </tr>\n",
       "    <tr>\n",
       "      <th>5</th>\n",
       "      <td>i was beginning to feel quite disheartened</td>\n",
       "      <td>0</td>\n",
       "      <td>36</td>\n",
       "    </tr>\n",
       "    <tr>\n",
       "      <th>6</th>\n",
       "      <td>i would think that whomever would be lucky eno...</td>\n",
       "      <td>2</td>\n",
       "      <td>101</td>\n",
       "    </tr>\n",
       "    <tr>\n",
       "      <th>7</th>\n",
       "      <td>i fear that they won t ever feel that deliciou...</td>\n",
       "      <td>1</td>\n",
       "      <td>100</td>\n",
       "    </tr>\n",
       "    <tr>\n",
       "      <th>8</th>\n",
       "      <td>im forever taking some time out to have a lie ...</td>\n",
       "      <td>5</td>\n",
       "      <td>57</td>\n",
       "    </tr>\n",
       "    <tr>\n",
       "      <th>9</th>\n",
       "      <td>i can still lose the weight without feeling de...</td>\n",
       "      <td>0</td>\n",
       "      <td>44</td>\n",
       "    </tr>\n",
       "  </tbody>\n",
       "</table>\n",
       "</div>"
      ],
      "text/plain": [
       "                                                text  label  text_length\n",
       "0      i just feel really helpless and heavy hearted      4           38\n",
       "1  ive enjoyed being able to slouch about relax a...      0          190\n",
       "2  i gave up my internship with the dmrg and am f...      4           52\n",
       "3                         i dont know i feel so lost      0           20\n",
       "4  i am a kindergarten teacher and i am thoroughl...      4          181\n",
       "5         i was beginning to feel quite disheartened      0           36\n",
       "6  i would think that whomever would be lucky eno...      2          101\n",
       "7  i fear that they won t ever feel that deliciou...      1          100\n",
       "8  im forever taking some time out to have a lie ...      5           57\n",
       "9  i can still lose the weight without feeling de...      0           44"
      ]
     },
     "execution_count": 35,
     "metadata": {},
     "output_type": "execute_result"
    }
   ],
   "source": [
    "df.head(10)"
   ]
  },
  {
   "cell_type": "code",
   "execution_count": 36,
   "id": "3253b1ad-7de1-4c5b-a665-f7eb389e5d08",
   "metadata": {},
   "outputs": [
    {
     "name": "stdout",
     "output_type": "stream",
     "text": [
      "label\n",
      "1    141067\n",
      "0    121187\n",
      "3     57317\n",
      "4     47712\n",
      "2     34554\n",
      "5     14972\n",
      "Name: count, dtype: int64\n",
      "Maximum : Fear = 141067 , Minimum : Surprise = 14972\n",
      "Skewness : 0.4997\n",
      "Quantiles : [29658.5, 52514.5, 126157.0]\n",
      "Standard Deviation : 50221.6\n",
      "Mean : 69468 , Median : 52514 \n"
     ]
    }
   ],
   "source": [
    "Emotion_values = df['label'].value_counts()\n",
    "Maximum = Emotion_values.max()\n",
    "Minimum = Emotion_values.min()\n",
    "Skewness = skew(Emotion_values)\n",
    "mean = np.mean(Emotion_values)\n",
    "sd = st.stdev(Emotion_values)\n",
    "quantiles = st.quantiles(Emotion_values)\n",
    "Median = np.median(Emotion_values)\n",
    "print(Emotion_values)\n",
    "print(f'Maximum : Fear = {Maximum} , Minimum : Surprise = {Minimum}')\n",
    "print(f'Skewness : {round(Skewness,4)}')\n",
    "print(f'Quantiles : {quantiles}')\n",
    "print(f'Standard Deviation : {round(sd,2)}')\n",
    "print(f'Mean : {int(round(mean,0))} , Median : {int(Median)} ' )"
   ]
  },
  {
   "cell_type": "code",
   "execution_count": 37,
   "id": "96a83a15-7d23-4cd0-8098-c308e0dbc8f8",
   "metadata": {},
   "outputs": [],
   "source": [
    "x = df['text']\n",
    "y = df[df.columns[1]].values\n",
    "z = df['label']"
   ]
  },
  {
   "cell_type": "code",
   "execution_count": 38,
   "id": "1793cffc-4695-4d9f-a0d5-466c245cdb74",
   "metadata": {},
   "outputs": [
    {
     "data": {
      "image/png": "[encoded data removed]",
      "text/plain": [
       "<Figure size 600x600 with 1 Axes>"
      ]
     },
     "metadata": {},
     "output_type": "display_data"
    }
   ],
   "source": [
    "plt.figure(figsize=(6,6))\n",
    "emotions = ['joi','sad','anger','fear','love','surprise']\n",
    "colors = ['yellow','blue','red','grey','green','orange']\n",
    "explode = []\n",
    "num = 0.05\n",
    "for j in range(0,6):\n",
    "    explode.append(num)   \n",
    "pie = plt.pie(\n",
    "    Emotion_values , labels=emotions , colors=colors , autopct='%1.1f%%',\n",
    "    shadow = True , explode=explode,)\n",
    "plt.show()"
   ]
  },
  {
   "cell_type": "code",
   "execution_count": 39,
   "id": "0fd709ce-c4fd-4930-ab0c-4fdf1217ff8b",
   "metadata": {},
   "outputs": [
    {
     "data": {
      "image/png": "[encoded data removed]",
      "text/plain": [
       "<Figure size 600x500 with 1 Axes>"
      ]
     },
     "metadata": {},
     "output_type": "display_data"
    }
   ],
   "source": [
    "plt.figure(figsize=(6,5))\n",
    "plt.style.use('fivethirtyeight')\n",
    "emotions = ['sad','joi','anger','fear','love','surprise']\n",
    "colors = ['blue','yellow','red','grey','green','orange']\n",
    "hist = plt.bar(emotions , Emotion_values ,color=colors,linewidth=2 , edgecolor='black')\n",
    "classes_num = np.arange(0,6)\n",
    "plt.xticks(classes_num,emotions , fontname='Arial' , style='italic' , fontsize=13)\n",
    "plt.title('Emotions' , fontname='Arial' , fontsize=13 , style='italic')\n",
    "#plt.grid( color='black' , linestyle='--')\n",
    "plt.show()"
   ]
  },
  {
   "cell_type": "code",
   "execution_count": 40,
   "id": "bd18a7f1-ea51-476f-9ea7-dee414a51bbb",
   "metadata": {},
   "outputs": [
    {
     "data": {
      "image/png": "[encoded data removed]",
      "text/plain": [
       "<Figure size 1000x800 with 1 Axes>"
      ]
     },
     "metadata": {},
     "output_type": "display_data"
    }
   ],
   "source": [
    "emotions = ['sad', 'joy', 'anger', 'fear', 'love', 'surprise']\n",
    "colors = ['blue', 'yellow', 'red', 'grey', 'green', 'orange']\n",
    "fig = plt.figure(figsize=(10, 8))\n",
    "ax = fig.add_subplot(111, projection='3d')\n",
    "x_pos = np.arange(len(emotions))\n",
    "ax.bar3d(x_pos, np.zeros(len(emotions)), np.zeros(len(emotions)), 1, 1, Emotion_values, color=colors, edgecolor='black' , linewidth=2)\n",
    "ax.set_xticks(x_pos)\n",
    "ax.set_xticklabels(emotions, fontname='Arial', fontsize=13)\n",
    "ax.set_title('Emotions' , fontname='Arial' , fontstyle='italic' , size=15)\n",
    "ax.view_init(elev=20)\n",
    "plt.show()"
   ]
  },
  {
   "cell_type": "code",
   "execution_count": 15,
   "id": "f2fc4f79-8b81-412f-bda4-2c4743e1d445",
   "metadata": {},
   "outputs": [
    {
     "data": {
      "text/plain": [
       "0             i just feel really helpless and heavy hearted\n",
       "1         ive enjoyed being able to slouch about relax a...\n",
       "2         i gave up my internship with the dmrg and am f...\n",
       "3                                i dont know i feel so lost\n",
       "4         i am a kindergarten teacher and i am thoroughl...\n",
       "                                ...                        \n",
       "416804    i feel like telling these horny devils to find...\n",
       "416805    i began to realize that when i was feeling agi...\n",
       "416806    i feel very curious be why previous early dawn...\n",
       "416807    i feel that becuase of the tyranical nature of...\n",
       "416808    i think that after i had spent some time inves...\n",
       "Name: text, Length: 416809, dtype: object"
      ]
     },
     "execution_count": 15,
     "metadata": {},
     "output_type": "execute_result"
    }
   ],
   "source": [
    "x"
   ]
  },
  {
   "cell_type": "code",
   "execution_count": 16,
   "id": "41864169-9aa1-4700-bcbb-657944f0d3b5",
   "metadata": {},
   "outputs": [
    {
     "data": {
      "text/plain": [
       "\u001b[1;31mInit signature:\u001b[0m\n",
       "\u001b[0mTextVectorization\u001b[0m\u001b[1;33m(\u001b[0m\u001b[1;33m\n",
       "\u001b[0m    \u001b[0mmax_tokens\u001b[0m\u001b[1;33m=\u001b[0m\u001b[1;32mNone\u001b[0m\u001b[1;33m,\u001b[0m\u001b[1;33m\n",
       "\u001b[0m    \u001b[0mstandardize\u001b[0m\u001b[1;33m=\u001b[0m\u001b[1;34m'lower_and_strip_punctuation'\u001b[0m\u001b[1;33m,\u001b[0m\u001b[1;33m\n",
       "\u001b[0m    \u001b[0msplit\u001b[0m\u001b[1;33m=\u001b[0m\u001b[1;34m'whitespace'\u001b[0m\u001b[1;33m,\u001b[0m\u001b[1;33m\n",
       "\u001b[0m    \u001b[0mngrams\u001b[0m\u001b[1;33m=\u001b[0m\u001b[1;32mNone\u001b[0m\u001b[1;33m,\u001b[0m\u001b[1;33m\n",
       "\u001b[0m    \u001b[0moutput_mode\u001b[0m\u001b[1;33m=\u001b[0m\u001b[1;34m'int'\u001b[0m\u001b[1;33m,\u001b[0m\u001b[1;33m\n",
       "\u001b[0m    \u001b[0moutput_sequence_length\u001b[0m\u001b[1;33m=\u001b[0m\u001b[1;32mNone\u001b[0m\u001b[1;33m,\u001b[0m\u001b[1;33m\n",
       "\u001b[0m    \u001b[0mpad_to_max_tokens\u001b[0m\u001b[1;33m=\u001b[0m\u001b[1;32mFalse\u001b[0m\u001b[1;33m,\u001b[0m\u001b[1;33m\n",
       "\u001b[0m    \u001b[0mvocabulary\u001b[0m\u001b[1;33m=\u001b[0m\u001b[1;32mNone\u001b[0m\u001b[1;33m,\u001b[0m\u001b[1;33m\n",
       "\u001b[0m    \u001b[0midf_weights\u001b[0m\u001b[1;33m=\u001b[0m\u001b[1;32mNone\u001b[0m\u001b[1;33m,\u001b[0m\u001b[1;33m\n",
       "\u001b[0m    \u001b[0msparse\u001b[0m\u001b[1;33m=\u001b[0m\u001b[1;32mFalse\u001b[0m\u001b[1;33m,\u001b[0m\u001b[1;33m\n",
       "\u001b[0m    \u001b[0mragged\u001b[0m\u001b[1;33m=\u001b[0m\u001b[1;32mFalse\u001b[0m\u001b[1;33m,\u001b[0m\u001b[1;33m\n",
       "\u001b[0m    \u001b[0mencoding\u001b[0m\u001b[1;33m=\u001b[0m\u001b[1;34m'utf-8'\u001b[0m\u001b[1;33m,\u001b[0m\u001b[1;33m\n",
       "\u001b[0m    \u001b[1;33m**\u001b[0m\u001b[0mkwargs\u001b[0m\u001b[1;33m,\u001b[0m\u001b[1;33m\n",
       "\u001b[0m\u001b[1;33m)\u001b[0m\u001b[1;33m\u001b[0m\u001b[1;33m\u001b[0m\u001b[0m\n",
       "\u001b[1;31mDocstring:\u001b[0m     \n",
       "A preprocessing layer which maps text features to integer sequences.\n",
       "\n",
       "This layer has basic options for managing text in a Keras model. It\n",
       "transforms a batch of strings (one example = one string) into either a list\n",
       "of token indices (one example = 1D tensor of integer token indices) or a\n",
       "dense representation (one example = 1D tensor of float values representing\n",
       "data about the example's tokens). This layer is meant to handle natural\n",
       "language inputs. To handle simple string inputs (categorical strings or\n",
       "pre-tokenized strings) see `tf.keras.layers.StringLookup`.\n",
       "\n",
       "The vocabulary for the layer must be either supplied on construction or\n",
       "learned via `adapt()`. When this layer is adapted, it will analyze the\n",
       "dataset, determine the frequency of individual string values, and create a\n",
       "vocabulary from them. This vocabulary can have unlimited size or be capped,\n",
       "depending on the configuration options for this layer; if there are more\n",
       "unique values in the input than the maximum vocabulary size, the most\n",
       "frequent terms will be used to create the vocabulary.\n",
       "\n",
       "The processing of each example contains the following steps:\n",
       "\n",
       "1. Standardize each example (usually lowercasing + punctuation stripping)\n",
       "2. Split each example into substrings (usually words)\n",
       "3. Recombine substrings into tokens (usually ngrams)\n",
       "4. Index tokens (associate a unique int value with each token)\n",
       "5. Transform each example using this index, either into a vector of ints or\n",
       "   a dense float vector.\n",
       "\n",
       "Some notes on passing callables to customize splitting and normalization for\n",
       "this layer:\n",
       "\n",
       "1. Any callable can be passed to this Layer, but if you want to serialize\n",
       "   this object you should only pass functions that are registered Keras\n",
       "   serializables (see `tf.keras.saving.register_keras_serializable` for more\n",
       "   details).\n",
       "2. When using a custom callable for `standardize`, the data received\n",
       "   by the callable will be exactly as passed to this layer. The callable\n",
       "   should return a tensor of the same shape as the input.\n",
       "3. When using a custom callable for `split`, the data received by the\n",
       "   callable will have the 1st dimension squeezed out - instead of\n",
       "   `[[\"string to split\"], [\"another string to split\"]]`, the Callable will\n",
       "   see `[\"string to split\", \"another string to split\"]`. The callable should\n",
       "   return a Tensor with the first dimension containing the split tokens -\n",
       "   in this example, we should see something like `[[\"string\", \"to\",\n",
       "   \"split\"], [\"another\", \"string\", \"to\", \"split\"]]`. This makes the callable\n",
       "   site natively compatible with `tf.strings.split()`.\n",
       "\n",
       "For an overview and full list of preprocessing layers, see the preprocessing\n",
       "[guide](https://www.tensorflow.org/guide/keras/preprocessing_layers).\n",
       "\n",
       "Args:\n",
       "  max_tokens: Maximum size of the vocabulary for this layer. This should\n",
       "    only be specified when adapting a vocabulary or when setting\n",
       "    `pad_to_max_tokens=True`. Note that this vocabulary\n",
       "    contains 1 OOV token, so the effective number of tokens is\n",
       "    `(max_tokens - 1 - (1 if output_mode == \"int\" else 0))`.\n",
       "  standardize: Optional specification for standardization to apply to the\n",
       "    input text. Values can be:\n",
       "      - `None`: No standardization.\n",
       "      - `\"lower_and_strip_punctuation\"`: Text will be lowercased and all\n",
       "        punctuation removed.\n",
       "      - `\"lower\"`: Text will be lowercased.\n",
       "      - `\"strip_punctuation\"`: All punctuation will be removed.\n",
       "      - Callable: Inputs will passed to the callable function, which should\n",
       "        be standardized and returned.\n",
       "  split: Optional specification for splitting the input text. Values can be:\n",
       "      - `None`: No splitting.\n",
       "      - `\"whitespace\"`: Split on whitespace.\n",
       "      - `\"character\"`: Split on each unicode character.\n",
       "      - Callable: Standardized inputs will passed to the callable function,\n",
       "        which should be split and returned.\n",
       "  ngrams: Optional specification for ngrams to create from the\n",
       "    possibly-split input text. Values can be None, an integer or tuple of\n",
       "    integers; passing an integer will create ngrams up to that integer, and\n",
       "    passing a tuple of integers will create ngrams for the specified values\n",
       "    in the tuple. Passing None means that no ngrams will be created.\n",
       "  output_mode: Optional specification for the output of the layer. Values\n",
       "    can be `\"int\"`, `\"multi_hot\"`, `\"count\"` or `\"tf_idf\"`, configuring the\n",
       "    layer as follows:\n",
       "      - `\"int\"`: Outputs integer indices, one integer index per split string\n",
       "        token. When `output_mode == \"int\"`, 0 is reserved for masked\n",
       "        locations; this reduces the vocab size to\n",
       "        `max_tokens - 2` instead of `max_tokens - 1`.\n",
       "      - `\"multi_hot\"`: Outputs a single int array per batch, of either\n",
       "        vocab_size or max_tokens size, containing 1s in all elements where\n",
       "        the token mapped to that index exists at least once in the batch\n",
       "        item.\n",
       "      - `\"count\"`: Like `\"multi_hot\"`, but the int array contains a count of\n",
       "        the number of times the token at that index appeared in the\n",
       "        batch item.\n",
       "      - `\"tf_idf\"`: Like `\"multi_hot\"`, but the TF-IDF algorithm is applied\n",
       "        to find the value in each token slot.\n",
       "    For `\"int\"` output, any shape of input and output is supported. For all\n",
       "    other output modes, currently only rank 1 inputs (and rank 2 outputs\n",
       "    after splitting) are supported.\n",
       "  output_sequence_length: Only valid in INT mode. If set, the output will\n",
       "    have its time dimension padded or truncated to exactly\n",
       "    `output_sequence_length` values, resulting in a tensor of shape\n",
       "    `(batch_size, output_sequence_length)` regardless of how many tokens\n",
       "    resulted from the splitting step. Defaults to `None`.\n",
       "  pad_to_max_tokens: Only valid in  `\"multi_hot\"`, `\"count\"`, and `\"tf_idf\"`\n",
       "    modes. If True, the output will have its feature axis padded to\n",
       "    `max_tokens` even if the number of unique tokens in the vocabulary is\n",
       "    less than max_tokens, resulting in a tensor of shape `(batch_size,\n",
       "    max_tokens)` regardless of vocabulary size. Defaults to `False`.\n",
       "  vocabulary: Optional. Either an array of strings or a string path to a\n",
       "    text file. If passing an array, can pass a tuple, list, 1D numpy array,\n",
       "    or 1D tensor containing the string vocabulary terms. If passing a file\n",
       "    path, the file should contain one line per term in the vocabulary. If\n",
       "    this argument is set, there is no need to `adapt()` the layer.\n",
       "  idf_weights: Only valid when `output_mode` is `\"tf_idf\"`. A tuple, list,\n",
       "    1D numpy array, or 1D tensor of the same length as the vocabulary,\n",
       "    containing the floating point inverse document frequency weights, which\n",
       "    will be multiplied by per sample term counts for the final `tf_idf`\n",
       "    weight. If the `vocabulary` argument is set, and `output_mode` is\n",
       "    `\"tf_idf\"`, this argument must be supplied.\n",
       "  ragged: Boolean. Only applicable to `\"int\"` output mode. If True, returns\n",
       "    a `RaggedTensor` instead of a dense `Tensor`, where each sequence may\n",
       "    have a different length after string splitting. Defaults to `False`.\n",
       "  sparse: Boolean. Only applicable to `\"multi_hot\"`, `\"count\"`, and\n",
       "    `\"tf_idf\"` output modes. If True, returns a `SparseTensor` instead of a\n",
       "    dense `Tensor`. Defaults to `False`.\n",
       "  encoding: Optional. The text encoding to use to interpret the input\n",
       "    strings. Defaults to `\"utf-8\"`.\n",
       "\n",
       "Example:\n",
       "\n",
       "This example instantiates a `TextVectorization` layer that lowercases text,\n",
       "splits on whitespace, strips punctuation, and outputs integer vocab indices.\n",
       "\n",
       ">>> text_dataset = tf.data.Dataset.from_tensor_slices([\"foo\", \"bar\", \"baz\"])\n",
       ">>> max_features = 5000  # Maximum vocab size.\n",
       ">>> max_len = 4  # Sequence length to pad the outputs to.\n",
       ">>>\n",
       ">>> # Create the layer.\n",
       ">>> vectorize_layer = tf.keras.layers.TextVectorization(\n",
       "...  max_tokens=max_features,\n",
       "...  output_mode='int',\n",
       "...  output_sequence_length=max_len)\n",
       ">>>\n",
       ">>> # Now that the vocab layer has been created, call `adapt` on the\n",
       ">>> # text-only dataset to create the vocabulary. You don't have to batch,\n",
       ">>> # but for large datasets this means we're not keeping spare copies of\n",
       ">>> # the dataset.\n",
       ">>> vectorize_layer.adapt(text_dataset.batch(64))\n",
       ">>>\n",
       ">>> # Create the model that uses the vectorize text layer\n",
       ">>> model = tf.keras.models.Sequential()\n",
       ">>>\n",
       ">>> # Start by creating an explicit input layer. It needs to have a shape of\n",
       ">>> # (1,) (because we need to guarantee that there is exactly one string\n",
       ">>> # input per batch), and the dtype needs to be 'string'.\n",
       ">>> model.add(tf.keras.Input(shape=(1,), dtype=tf.string))\n",
       ">>>\n",
       ">>> # The first layer in our model is the vectorization layer. After this\n",
       ">>> # layer, we have a tensor of shape (batch_size, max_len) containing\n",
       ">>> # vocab indices.\n",
       ">>> model.add(vectorize_layer)\n",
       ">>>\n",
       ">>> # Now, the model can map strings to integers, and you can add an\n",
       ">>> # embedding layer to map these integers to learned embeddings.\n",
       ">>> input_data = [[\"foo qux bar\"], [\"qux baz\"]]\n",
       ">>> model.predict(input_data)\n",
       "array([[2, 1, 4, 0],\n",
       "       [1, 3, 0, 0]])\n",
       "\n",
       "Example:\n",
       "\n",
       "This example instantiates a `TextVectorization` layer by passing a list\n",
       "of vocabulary terms to the layer's `__init__()` method.\n",
       "\n",
       ">>> vocab_data = [\"earth\", \"wind\", \"and\", \"fire\"]\n",
       ">>> max_len = 4  # Sequence length to pad the outputs to.\n",
       ">>>\n",
       ">>> # Create the layer, passing the vocab directly. You can also pass the\n",
       ">>> # vocabulary arg a path to a file containing one vocabulary word per\n",
       ">>> # line.\n",
       ">>> vectorize_layer = tf.keras.layers.TextVectorization(\n",
       "...  max_tokens=max_features,\n",
       "...  output_mode='int',\n",
       "...  output_sequence_length=max_len,\n",
       "...  vocabulary=vocab_data)\n",
       ">>>\n",
       ">>> # Because we've passed the vocabulary directly, we don't need to adapt\n",
       ">>> # the layer - the vocabulary is already set. The vocabulary contains the\n",
       ">>> # padding token ('') and OOV token ('[UNK]') as well as the passed\n",
       ">>> # tokens.\n",
       ">>> vectorize_layer.get_vocabulary()\n",
       "['', '[UNK]', 'earth', 'wind', 'and', 'fire']\n",
       "\u001b[1;31mFile:\u001b[0m           c:\\users\\nima\\appdata\\local\\programs\\python\\python311\\lib\\site-packages\\keras\\src\\layers\\preprocessing\\text_vectorization.py\n",
       "\u001b[1;31mType:\u001b[0m           ABCMeta\n",
       "\u001b[1;31mSubclasses:\u001b[0m     "
      ]
     },
     "metadata": {},
     "output_type": "display_data"
    }
   ],
   "source": [
    "TextVectorization?"
   ]
  },
  {
   "cell_type": "code",
   "execution_count": 17,
   "id": "d49cda5e-bdf5-47ee-9267-bfb9a1758e61",
   "metadata": {},
   "outputs": [
    {
     "name": "stdout",
     "output_type": "stream",
     "text": [
      "WARNING:tensorflow:From C:\\Users\\Nima\\AppData\\Local\\Programs\\Python\\Python311\\Lib\\site-packages\\keras\\src\\backend.py:873: The name tf.get_default_graph is deprecated. Please use tf.compat.v1.get_default_graph instead.\n",
      "\n"
     ]
    }
   ],
   "source": [
    "token_num = 200000\n",
    "Vectorization = TextVectorization(\n",
    "    standardize = 'lower_and_strip_punctuation',\n",
    "    max_tokens = token_num,\n",
    "    output_sequence_length = 1800,\n",
    "    output_mode = 'int'                      \n",
    ")"
   ]
  },
  {
   "cell_type": "code",
   "execution_count": 18,
   "id": "7a77fd0a-05b3-487c-8d27-9d8e17317778",
   "metadata": {},
   "outputs": [
    {
     "name": "stdout",
     "output_type": "stream",
     "text": [
      "WARNING:tensorflow:From C:\\Users\\Nima\\AppData\\Local\\Programs\\Python\\Python311\\Lib\\site-packages\\keras\\src\\utils\\tf_utils.py:492: The name tf.ragged.RaggedTensorValue is deprecated. Please use tf.compat.v1.ragged.RaggedTensorValue instead.\n",
      "\n"
     ]
    }
   ],
   "source": [
    "Vectorization.adapt(x)\n",
    "Vector = Vectorization(x.values)"
   ]
  },
  {
   "cell_type": "code",
   "execution_count": 19,
   "id": "c0fbb2d6-d02f-4f10-8abf-222bd9975d88",
   "metadata": {},
   "outputs": [],
   "source": [
    "text = Vectorization('hello buddy')"
   ]
  },
  {
   "cell_type": "code",
   "execution_count": 20,
   "id": "29ce2c2e-b085-441f-b801-0d917ec74857",
   "metadata": {},
   "outputs": [
    {
     "data": {
      "text/plain": [
       "<tf.Tensor: shape=(1800,), dtype=int64, numpy=array([2817, 4782,    0, ...,    0,    0,    0], dtype=int64)>"
      ]
     },
     "execution_count": 20,
     "metadata": {},
     "output_type": "execute_result"
    }
   ],
   "source": [
    "text"
   ]
  },
  {
   "cell_type": "code",
   "execution_count": 21,
   "id": "a9e3bb8d-27ce-47e8-808c-b7b03f68884c",
   "metadata": {},
   "outputs": [
    {
     "data": {
      "text/plain": [
       "<tf.Tensor: shape=(416809, 1800), dtype=int64, numpy=\n",
       "array([[   2,   32,    3, ...,    0,    0,    0],\n",
       "       [  73, 1168,   61, ...,    0,    0,    0],\n",
       "       [   2,  840,   42, ...,    0,    0,    0],\n",
       "       ...,\n",
       "       [   2,    3,   47, ...,    0,    0,    0],\n",
       "       [   2,    3,    9, ...,    0,    0,    0],\n",
       "       [   2,   69,    9, ...,    0,    0,    0]], dtype=int64)>"
      ]
     },
     "execution_count": 21,
     "metadata": {},
     "output_type": "execute_result"
    }
   ],
   "source": [
    "Vector"
   ]
  },
  {
   "cell_type": "code",
   "execution_count": 22,
   "id": "3fdc3b30-1505-4ef5-8120-4d63e0429dd6",
   "metadata": {},
   "outputs": [],
   "source": [
    "Dataset = tf.data.Dataset.from_tensor_slices((Vector,y))\n",
    "Dataset = Dataset.cache()\n",
    "Dataset = Dataset.shuffle(417000)\n",
    "Dataset = Dataset.batch(16)\n",
    "Dataset = Dataset.prefetch(8)"
   ]
  },
  {
   "cell_type": "code",
   "execution_count": 23,
   "id": "5d3a7dfc-dad4-4a0f-ac47-f42b3b3aa8e2",
   "metadata": {},
   "outputs": [],
   "source": [
    "total = len(Dataset)\n",
    "train_size = int((total)*0.7)\n",
    "test_size = int((total)*0.2)\n",
    "val_size = int((total)*0.1)"
   ]
  },
  {
   "cell_type": "code",
   "execution_count": 24,
   "id": "71373dbc-3089-4941-9aec-ea490a43bcdc",
   "metadata": {},
   "outputs": [
    {
     "data": {
      "text/plain": [
       "26051"
      ]
     },
     "execution_count": 24,
     "metadata": {},
     "output_type": "execute_result"
    }
   ],
   "source": [
    "total"
   ]
  },
  {
   "cell_type": "code",
   "execution_count": 25,
   "id": "622c9fb8-5c69-4316-b11e-06494c3c4c3f",
   "metadata": {},
   "outputs": [],
   "source": [
    "train = Dataset.take(train_size)\n",
    "test = Dataset.skip(train_size).take(test_size)\n",
    "val = Dataset.skip(train_size+test_size).take(val_size)"
   ]
  },
  {
   "cell_type": "code",
   "execution_count": 26,
   "id": "6dedf31e-7bf2-4ea9-810b-445d45a3f2f0",
   "metadata": {},
   "outputs": [
    {
     "name": "stdout",
     "output_type": "stream",
     "text": [
      "WARNING:tensorflow:From C:\\Users\\Nima\\AppData\\Local\\Programs\\Python\\Python311\\Lib\\site-packages\\keras\\src\\backend.py:6642: The name tf.nn.max_pool is deprecated. Please use tf.nn.max_pool2d instead.\n",
      "\n",
      "Model: \"sequential\"\n",
      "_________________________________________________________________\n",
      " Layer (type)                Output Shape              Param #   \n",
      "=================================================================\n",
      " embedding (Embedding)       (None, None, 128)         25600128  \n",
      "                                                                 \n",
      " dropout (Dropout)           (None, None, 128)         0         \n",
      "                                                                 \n",
      " conv1d (Conv1D)             (None, None, 128)         82048     \n",
      "                                                                 \n",
      " max_pooling1d (MaxPooling1  (None, None, 128)         0         \n",
      " D)                                                              \n",
      "                                                                 \n",
      " bidirectional (Bidirection  (None, 256)               263168    \n",
      " al)                                                             \n",
      "                                                                 \n",
      " batch_normalization (Batch  (None, 256)               1024      \n",
      " Normalization)                                                  \n",
      "                                                                 \n",
      " dropout_1 (Dropout)         (None, 256)               0         \n",
      "                                                                 \n",
      " dense (Dense)               (None, 512)               131584    \n",
      "                                                                 \n",
      " dropout_2 (Dropout)         (None, 512)               0         \n",
      "                                                                 \n",
      " dense_1 (Dense)             (None, 6)                 3078      \n",
      "                                                                 \n",
      "=================================================================\n",
      "Total params: 26081030 (99.49 MB)\n",
      "Trainable params: 26080518 (99.49 MB)\n",
      "Non-trainable params: 512 (2.00 KB)\n",
      "_________________________________________________________________\n"
     ]
    }
   ],
   "source": [
    "model = Sequential()\n",
    "model.add(Embedding(token_num + 1, 128))\n",
    "model.add(Dropout(0.1))\n",
    "model.add(Conv1D(128 , 5 ,activation='relu'))\n",
    "model.add(MaxPooling1D(pool_size=5))\n",
    "model.add(Bidirectional(LSTM(128 , activation='tanh')))\n",
    "model.add(BatchNormalization())\n",
    "model.add(Dropout(0.1))\n",
    "model.add(Dense(units=512, activation='relu'))\n",
    "model.add(Dropout(0.1))\n",
    "model.add(Dense(units=6, activation='softmax'))\n",
    "model.summary()"
   ]
  },
  {
   "cell_type": "code",
   "execution_count": 23,
   "id": "86428cc4-032f-43d1-b305-93efa765bf42",
   "metadata": {},
   "outputs": [],
   "source": [
    "binary = BinaryCrossentropy()"
   ]
  },
  {
   "cell_type": "code",
   "execution_count": 24,
   "id": "f6f7fa6a-17d4-4030-bc31-0ffed4ba9965",
   "metadata": {},
   "outputs": [
    {
     "name": "stdout",
     "output_type": "stream",
     "text": [
      "WARNING:tensorflow:From C:\\Users\\Nima\\AppData\\Local\\Programs\\Python\\Python311\\Lib\\site-packages\\keras\\src\\optimizers\\__init__.py:309: The name tf.train.Optimizer is deprecated. Please use tf.compat.v1.train.Optimizer instead.\n",
      "\n"
     ]
    }
   ],
   "source": [
    "model.compile(optimizer='adam' , loss='sparse_categorical_crossentropy' , metrics=['accuracy'])"
   ]
  },
  {
   "cell_type": "code",
   "execution_count": null,
   "id": "0df648f2-c31c-4fb3-91be-b4d2145b767c",
   "metadata": {},
   "outputs": [
    {
     "name": "stdout",
     "output_type": "stream",
     "text": [
      "WARNING:tensorflow:From C:\\Users\\Nima\\AppData\\Local\\Programs\\Python\\Python311\\Lib\\site-packages\\keras\\src\\engine\\base_layer_utils.py:384: The name tf.executing_eagerly_outside_functions is deprecated. Please use tf.compat.v1.executing_eagerly_outside_functions instead.\n",
      "\n"
     ]
    }
   ],
   "source": [
    "model.fit(train,epochs=2,validation_data=val)"
   ]
  },
  {
   "cell_type": "code",
   "execution_count": null,
   "id": "100bed3a-2d90-4e97-898f-e3c54b9d552f",
   "metadata": {},
   "outputs": [],
   "source": [
    "comment = Vectorization('i am afraid of darkness')"
   ]
  },
  {
   "cell_type": "code",
   "execution_count": null,
   "id": "f9f21cf7-9a9e-4598-a370-bfee3d72d3d4",
   "metadata": {},
   "outputs": [],
   "source": [
    "eval = model.evaluate(train)"
   ]
  },
  {
   "cell_type": "code",
   "execution_count": 402,
   "id": "3a1368e1-ec61-4758-b2ff-5979ac3cc02e",
   "metadata": {},
   "outputs": [
    {
     "name": "stdout",
     "output_type": "stream",
     "text": [
      "\u001b[1m1/1\u001b[0m \u001b[32m━━━━━━━━━━━━━━━━━━━━\u001b[0m\u001b[37m\u001b[0m \u001b[1m0s\u001b[0m 47ms/step\n"
     ]
    }
   ],
   "source": [
    "prediction = model.predict(np.expand_dims(comment,0))\n",
    "y_hat = np.argmax(prediction)"
   ]
  },
  {
   "cell_type": "code",
   "execution_count": 403,
   "id": "690b7efa-063e-4471-9330-199baffd6c55",
   "metadata": {},
   "outputs": [
    {
     "data": {
      "text/plain": [
       "{0: 'sad', 1: 'joy', 2: 'love', 3: 'anger', 4: 'fear', 5: 'surprise'}"
      ]
     },
     "execution_count": 403,
     "metadata": {},
     "output_type": "execute_result"
    }
   ],
   "source": [
    "dg = {0 : \"sad\" , 1 : \"joi\" , 2 : \"love\" , 3 : \"anger\" ,4 : \"fear\" ,5 : \"surprise\"}\n",
    "dg"
   ]
  },
  {
   "cell_type": "code",
   "execution_count": 404,
   "id": "5317de1a-675a-4d84-abbf-1bcba3dc7329",
   "metadata": {},
   "outputs": [
    {
     "data": {
      "text/plain": [
       "'fear'"
      ]
     },
     "execution_count": 404,
     "metadata": {},
     "output_type": "execute_result"
    }
   ],
   "source": [
    "dg[y_hat]"
   ]
  },
  {
   "cell_type": "code",
   "execution_count": null,
   "id": "43ce07c2-e2c0-4721-9d89-b97e372acf05",
   "metadata": {},
   "outputs": [],
   "source": [
    "st?"
   ]
  },
  {
   "cell_type": "code",
   "execution_count": null,
   "id": "d5208016-d287-425d-97d3-1380e9731a66",
   "metadata": {},
   "outputs": [],
   "source": [
    "plt.plot(model.history['loss'] , label = 'loss')\n",
    "plt.plot(model.history['val_loss'] , label = 'validation_loss')\n",
    "plt.xlabel('iterations')\n",
    "plt.ylabel('loss')\n",
    "plt.show()\n",
    "plt.legend\n",
    "plt.plot(model.history['accuracy'] , label = 'accuracy')\n",
    "plt.plot(model.history['accuracy_loss'] , label = 'accuracy_loss')\n",
    "plt.xlabel('iterations')\n",
    "plt.ylabel('accuracy')\n",
    "plt.legend()\n",
    "plt.show()"
   ]
  },
  {
   "cell_type": "code",
   "execution_count": 28,
   "id": "02337e9d-df57-4d55-964c-88f895f8a4d4",
   "metadata": {},
   "outputs": [],
   "source": [
    "df.info()"
   ]
  },
  {
   "cell_type": "code",
   "execution_count": 29,
   "id": "24238d53-8c0b-48d2-b4ce-2270d413daae",
   "metadata": {},
   "outputs": [],
   "source": [
    "plt.bar?"
   ]
  },
  {
   "cell_type": "code",
   "execution_count": 24,
   "id": "aef2df20-744f-4537-a69a-eae4ebd905d3",
   "metadata": {},
   "outputs": [
    {
     "data": {
      "text/html": [
       "<div>\n",
       "<style scoped>\n",
       "    .dataframe tbody tr th:only-of-type {\n",
       "        vertical-align: middle;\n",
       "    }\n",
       "\n",
       "    .dataframe tbody tr th {\n",
       "        vertical-align: top;\n",
       "    }\n",
       "\n",
       "    .dataframe thead th {\n",
       "        text-align: right;\n",
       "    }\n",
       "</style>\n",
       "<table border=\"1\" class=\"dataframe\">\n",
       "  <thead>\n",
       "    <tr style=\"text-align: right;\">\n",
       "      <th></th>\n",
       "      <th>text</th>\n",
       "      <th>label</th>\n",
       "      <th>text_length</th>\n",
       "    </tr>\n",
       "  </thead>\n",
       "  <tbody>\n",
       "    <tr>\n",
       "      <th>416799</th>\n",
       "      <td>i feel that i must confess even though it kill...</td>\n",
       "      <td>5</td>\n",
       "      <td>76</td>\n",
       "    </tr>\n",
       "    <tr>\n",
       "      <th>416800</th>\n",
       "      <td>i don t know why today i feel like it looks ve...</td>\n",
       "      <td>1</td>\n",
       "      <td>123</td>\n",
       "    </tr>\n",
       "    <tr>\n",
       "      <th>416801</th>\n",
       "      <td>i don t even feel like i fully resolved it but...</td>\n",
       "      <td>1</td>\n",
       "      <td>54</td>\n",
       "    </tr>\n",
       "    <tr>\n",
       "      <th>416802</th>\n",
       "      <td>i feel like i have been neglecting you my fait...</td>\n",
       "      <td>1</td>\n",
       "      <td>48</td>\n",
       "    </tr>\n",
       "    <tr>\n",
       "      <th>416803</th>\n",
       "      <td>i cry and feel a sense of loss when my patient...</td>\n",
       "      <td>1</td>\n",
       "      <td>192</td>\n",
       "    </tr>\n",
       "    <tr>\n",
       "      <th>416804</th>\n",
       "      <td>i feel like telling these horny devils to find...</td>\n",
       "      <td>2</td>\n",
       "      <td>107</td>\n",
       "    </tr>\n",
       "    <tr>\n",
       "      <th>416805</th>\n",
       "      <td>i began to realize that when i was feeling agi...</td>\n",
       "      <td>3</td>\n",
       "      <td>89</td>\n",
       "    </tr>\n",
       "    <tr>\n",
       "      <th>416806</th>\n",
       "      <td>i feel very curious be why previous early dawn...</td>\n",
       "      <td>5</td>\n",
       "      <td>72</td>\n",
       "    </tr>\n",
       "    <tr>\n",
       "      <th>416807</th>\n",
       "      <td>i feel that becuase of the tyranical nature of...</td>\n",
       "      <td>3</td>\n",
       "      <td>182</td>\n",
       "    </tr>\n",
       "    <tr>\n",
       "      <th>416808</th>\n",
       "      <td>i think that after i had spent some time inves...</td>\n",
       "      <td>5</td>\n",
       "      <td>110</td>\n",
       "    </tr>\n",
       "  </tbody>\n",
       "</table>\n",
       "</div>"
      ],
      "text/plain": [
       "                                                     text  label  text_length\n",
       "416799  i feel that i must confess even though it kill...      5           76\n",
       "416800  i don t know why today i feel like it looks ve...      1          123\n",
       "416801  i don t even feel like i fully resolved it but...      1           54\n",
       "416802  i feel like i have been neglecting you my fait...      1           48\n",
       "416803  i cry and feel a sense of loss when my patient...      1          192\n",
       "416804  i feel like telling these horny devils to find...      2          107\n",
       "416805  i began to realize that when i was feeling agi...      3           89\n",
       "416806  i feel very curious be why previous early dawn...      5           72\n",
       "416807  i feel that becuase of the tyranical nature of...      3          182\n",
       "416808  i think that after i had spent some time inves...      5          110"
      ]
     },
     "execution_count": 24,
     "metadata": {},
     "output_type": "execute_result"
    }
   ],
   "source": [
    "df.tail(10)"
   ]
  },
  {
   "cell_type": "code",
   "execution_count": null,
   "id": "5bd12f0e-ed58-4640-a5c0-d818b7125633",
   "metadata": {},
   "outputs": [],
   "source": []
  }
 ],
 "metadata": {
  "kernelspec": {
   "display_name": "Python 3 (ipykernel)",
   "language": "python",
   "name": "python3"
  },
  "language_info": {
   "codemirror_mode": {
    "name": "ipython",
    "version": 3
   },
   "file_extension": ".py",
   "mimetype": "text/x-python",
   "name": "python",
   "nbconvert_exporter": "python",
   "pygments_lexer": "ipython3",
   "version": "3.11.4"
  }
 },
 "nbformat": 4,
 "nbformat_minor": 5
}
